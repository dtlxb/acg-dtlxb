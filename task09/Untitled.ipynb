{
 "cells": [
  {
   "cell_type": "code",
   "execution_count": null,
   "id": "b308d81a",
   "metadata": {},
   "outputs": [],
   "source": [
    "%pip install --upgrade pip"
   ]
  },
  {
   "cell_type": "code",
   "execution_count": null,
   "id": "982ced1c",
   "metadata": {},
   "outputs": [],
   "source": [
    "%pip install --upgrade Pillow"
   ]
  },
  {
   "cell_type": "code",
   "execution_count": null,
   "id": "aa1ddf4a",
   "metadata": {},
   "outputs": [],
   "source": [
    "%pip install --upgrade numpy"
   ]
  },
  {
   "cell_type": "code",
   "execution_count": 1,
   "id": "3adbb729",
   "metadata": {},
   "outputs": [],
   "source": [
    "import numpy\n",
    "from PIL import Image\n",
    "from cppmodule import *"
   ]
  },
  {
   "cell_type": "code",
   "execution_count": 2,
   "id": "3baf1176",
   "metadata": {},
   "outputs": [],
   "source": [
    "dst = numpy.array(Image.open(\"../assets/autumn.png\"))\n",
    "src = numpy.array(Image.open(\"../assets/squirrel.png\"))\n",
    "src_msk = numpy.array(Image.open(\"../assets/squirrel_mask.png\")).astype(numpy.uint8)\n",
    "offset = (50,200)\n",
    "num_iteration = 1000\n",
    "ret_r = poisson_blending(dst[:,:,0],src[:,:,0],src_msk,offset=offset,num_iteration=num_iteration)\n",
    "ret_g = poisson_blending(dst[:,:,1],src[:,:,1],src_msk,offset=offset,num_iteration=num_iteration)\n",
    "ret_b = poisson_blending(dst[:,:,2],src[:,:,2],src_msk,offset=offset,num_iteration=num_iteration)\n",
    "im_out = Image.fromarray(numpy.dstack([ret_r,ret_g,ret_b]).astype(numpy.uint8))\n",
    "im_out.show()"
   ]
  },
  {
   "cell_type": "code",
   "execution_count": null,
   "id": "8ddeb71b",
   "metadata": {},
   "outputs": [],
   "source": [
    "\n",
    "def main():\n",
    "  dst = numpy.array(Image.open(\"../assets/autumn.png\"))\n",
    "  src = numpy.array(Image.open(\"../assets/squirrel.png\"))\n",
    "  src_msk = numpy.array(Image.open(\"../assets/squirrel_mask.png\")).astype(numpy.uint8)\n",
    "  offset = (50,200)\n",
    "  num_iteration = 1000\n",
    "  ret_r = poisson_blending(dst[:,:,0],src[:,:,0],src_msk,offset=offset,num_iteration=num_iteration)\n",
    "  ret_g = poisson_blending(dst[:,:,1],src[:,:,1],src_msk,offset=offset,num_iteration=num_iteration)\n",
    "  ret_b = poisson_blending(dst[:,:,2],src[:,:,2],src_msk,offset=offset,num_iteration=num_iteration)\n",
    "  im_out = Image.fromarray(numpy.dstack([ret_r,ret_g,ret_b]).astype(numpy.uint8))\n",
    "  im_out.show()\n",
    "\n",
    "if __name__ == \"__main__\":\n",
    "  main()"
   ]
  }
 ],
 "metadata": {
  "kernelspec": {
   "display_name": "Python 3 (ipykernel)",
   "language": "python",
   "name": "python3"
  },
  "language_info": {
   "codemirror_mode": {
    "name": "ipython",
    "version": 3
   },
   "file_extension": ".py",
   "mimetype": "text/x-python",
   "name": "python",
   "nbconvert_exporter": "python",
   "pygments_lexer": "ipython3",
   "version": "3.9.7"
  }
 },
 "nbformat": 4,
 "nbformat_minor": 5
}
